{
 "cells": [
  {
   "cell_type": "markdown",
   "metadata": {},
   "source": [
    "# Necessary Goals\n",
    "You will\n",
    "- Section01\n",
    "    - a. create a word counts dictionary\n",
    "    - b. find most common word\n",
    "- Section02\n",
    "    - a. calculate the mean and standard deviation of the word counts\n",
    "- Section03\n",
    "    - write a function that takes in a parameter to complete a task\n",
    "    - write a function that takes in multiple parameters to complete a task\n",
    "\n",
    "# Level Up Goals\n",
    "- write a function that solves a particular logical task\n",
    "- write a lambda function to complete a task"
   ]
  },
  {
   "cell_type": "code",
   "execution_count": 9,
   "metadata": {},
   "outputs": [
    {
     "data": {
      "text/plain": [
       "<module 'solutions.solutions' from '/Users/thomasttam/Desktop/flatiron-ds-course/sections01-section03-assessment/solutions/solutions.py'>"
      ]
     },
     "execution_count": 9,
     "metadata": {},
     "output_type": "execute_result"
    }
   ],
   "source": [
    "# just run this cell\n",
    "from importlib import reload\n",
    "import solutions.solutions as sol\n",
    "reload(sol)"
   ]
  },
  {
   "cell_type": "markdown",
   "metadata": {},
   "source": [
    "# Section 01: Strings\n",
    "Using the variable `lyrics` below, please solve the following questions"
   ]
  },
  {
   "cell_type": "code",
   "execution_count": 10,
   "metadata": {},
   "outputs": [
    {
     "data": {
      "text/plain": [
       "\"She'll only come out at nights\\nThe lean and hungry type\\nNothing is new\\nI've seen her here before\\nWatching and waiting\\nOoh, she's sittin' with you\\nBut her eyes are on the door\\n\\nSo many have paid to see\\nWhat you think\\nYou're gettin' for free\\nThe woman is wild\\nA she-cat tamed\\nBy the purr of a Jaguar\\nMoney's the matter\\nIf you're in it for love\\nYou ain't gonna get too far\\n\\n(Oh-oh, here she comes)\\nWatch out boy\\nShe'll chew you up\\n(Oh-oh, here she comes)\\nShe's a maneater\\n(Oh-oh, here she comes)\\nWatch out boy\\nShe'll chew you up\\n(Oh-oh, here she comes)\\nShe's a maneater\\n\\nI wouldn't if I were you\\nI know what she can do\\nShe's deadly man\\nAnd she could really rip your world apart\\nMind over matter\\nOoh, the beauty is there\\nBut a beast is in the heart\\n\\n(Oh-oh, here she comes)\\nWatch out boy\\nShe'll chew you up\\n(Oh-oh, here she comes)\\nShe's a maneater\\n(Oh-oh, here she comes)\\nWatch out boy\\nShe'll chew you up\\n(Oh-oh, here she comes)\\nShe's a maneater\\n\\n[Instrumental Interlude]\\n\\nOoooooooh\\n(Oh-oh, here she comes)\\nHere she comes\\nWatch out boy\\nShe'll chew you up\\n(Whoa-oh, here she comes\\n(Watch out) she's a maneater\\n(Oh-oh, here she comes)\\n(She's a maneater)\\nOoh, she'll chew you up\\n(Oh-oh, here she comes)\\nHere she comes, she's a maneater\\n(Oh-oh, here she comes)\\n(Watch out)\\nShe'll only come out at night, ooh-oh\\n(Oh-oh, here she comes)\\nHere she comes\\nShe's a maneater\\n(Oh-oh, here she comes)\\n(She's a maneater)\\nThe woman is wild, whoooa\\n(Oh-oh, here she comes)\\nHere she comes\\nWatch out boy, watch out boy\\n(Oh-oh, here she comes)\\nOh, watch out, watch out\\nWatch out, watch out\\n(Oh-oh, here she comes)\\n(Yeah, yeah) she's a maneater\\n(Oh-oh, here she comes)\\n(She's a maneater)\\nShe's watching and waiting, ooh-oh\\n(Oh-oh, here she comes)\\nOh, she's a maneater\""
      ]
     },
     "execution_count": 10,
     "metadata": {},
     "output_type": "execute_result"
    }
   ],
   "source": [
    "# this cell will just load and open the lyrics\n",
    "# just run this cell\n",
    "with open(\"data/lyrics.txt\", \"r\") as f:\n",
    "    lyrics = f.read()\n",
    "lyrics"
   ]
  },
  {
   "cell_type": "markdown",
   "metadata": {},
   "source": [
    "## S01 - Part A\n",
    "create a dictionary called `word_counter` that counts the number of words in `lyrics`.\n",
    "- remove all puntuation using `string punctuation`\n",
    "- lowercase the entire string\n",
    "- split by `\" \"`"
   ]
  },
  {
   "cell_type": "code",
   "execution_count": 11,
   "metadata": {},
   "outputs": [
    {
     "data": {
      "text/plain": [
       "{\"she'll\": 8,\n",
       " 'only': 2,\n",
       " 'come': 2,\n",
       " 'out': 15,\n",
       " 'at': 2,\n",
       " 'nights': 1,\n",
       " 'the': 8,\n",
       " 'lean': 1,\n",
       " 'and': 4,\n",
       " 'hungry': 1,\n",
       " 'type': 1,\n",
       " 'nothing': 1,\n",
       " 'is': 5,\n",
       " 'new': 1,\n",
       " \"i've\": 1,\n",
       " 'seen': 1,\n",
       " 'her': 2,\n",
       " 'here': 25,\n",
       " 'before': 1,\n",
       " 'watching': 2,\n",
       " 'waiting': 2,\n",
       " 'ooh': 3,\n",
       " \"she's\": 15,\n",
       " \"sittin'\": 1,\n",
       " 'with': 1,\n",
       " 'you': 10,\n",
       " 'but': 2,\n",
       " 'eyes': 1,\n",
       " 'are': 1,\n",
       " 'on': 1,\n",
       " 'door': 1,\n",
       " 'so': 1,\n",
       " 'many': 1,\n",
       " 'have': 1,\n",
       " 'paid': 1,\n",
       " 'to': 1,\n",
       " 'see': 1,\n",
       " 'what': 2,\n",
       " 'think': 1,\n",
       " \"you're\": 2,\n",
       " \"gettin'\": 1,\n",
       " 'for': 2,\n",
       " 'free': 1,\n",
       " 'woman': 2,\n",
       " 'wild': 2,\n",
       " 'a': 15,\n",
       " 'she-cat': 1,\n",
       " 'tamed': 1,\n",
       " 'by': 1,\n",
       " 'purr': 1,\n",
       " 'of': 1,\n",
       " 'jaguar': 1,\n",
       " \"money's\": 1,\n",
       " 'matter': 2,\n",
       " 'if': 2,\n",
       " 'in': 2,\n",
       " 'it': 1,\n",
       " 'love': 1,\n",
       " \"ain't\": 1,\n",
       " 'gonna': 1,\n",
       " 'get': 1,\n",
       " 'too': 1,\n",
       " 'far': 1,\n",
       " 'oh-oh': 19,\n",
       " 'she': 26,\n",
       " 'comes': 24,\n",
       " 'watch': 13,\n",
       " 'boy': 7,\n",
       " 'chew': 6,\n",
       " 'up': 6,\n",
       " 'maneater': 12,\n",
       " 'i': 3,\n",
       " \"wouldn't\": 1,\n",
       " 'were': 1,\n",
       " 'know': 1,\n",
       " 'can': 1,\n",
       " 'do': 1,\n",
       " 'deadly': 1,\n",
       " 'man': 1,\n",
       " 'could': 1,\n",
       " 'really': 1,\n",
       " 'rip': 1,\n",
       " 'your': 1,\n",
       " 'world': 1,\n",
       " 'apart': 1,\n",
       " 'mind': 1,\n",
       " 'over': 1,\n",
       " 'beauty': 1,\n",
       " 'there': 1,\n",
       " 'beast': 1,\n",
       " 'heart': 1,\n",
       " 'instrumental': 1,\n",
       " 'interlude': 1,\n",
       " 'ooooooooh': 1,\n",
       " 'whoa-oh': 1,\n",
       " 'night': 1,\n",
       " 'ooh-oh': 2,\n",
       " 'whoooa': 1,\n",
       " 'oh': 2,\n",
       " 'yeah': 2}"
      ]
     },
     "execution_count": 11,
     "metadata": {},
     "output_type": "execute_result"
    }
   ],
   "source": [
    "# build your word_counter here\n",
    "# Your code here\n",
    "\n",
    "word_counter = {}\n",
    "\n",
    "removed_punc = lyrics.replace('\\n',' ').replace(',','').replace('(',' ').replace(')',' ').replace('[','').replace(']','').lower()\n",
    "split_words = removed_punc.split(' ')\n",
    "cleaned_lyrics = list(filter(lambda x: x != '', split_words))\n",
    "\n",
    "for word in cleaned_lyrics:\n",
    "    word_counter[word] = word_counter.get(word,0) + 1\n",
    "    \n",
    "word_counter"
   ]
  },
  {
   "cell_type": "code",
   "execution_count": 12,
   "metadata": {},
   "outputs": [
    {
     "data": {
      "text/plain": [
       "{'shell': 8,\n",
       " 'only': 2,\n",
       " 'come': 2,\n",
       " 'out': 15,\n",
       " 'at': 2,\n",
       " 'nights': 1,\n",
       " 'the': 8,\n",
       " 'lean': 1,\n",
       " 'and': 4,\n",
       " 'hungry': 1,\n",
       " 'type': 1,\n",
       " 'nothing': 1,\n",
       " 'is': 5,\n",
       " 'new': 1,\n",
       " 'ive': 1,\n",
       " 'seen': 1,\n",
       " 'her': 2,\n",
       " 'here': 25,\n",
       " 'before': 1,\n",
       " 'watching': 2,\n",
       " 'waiting': 2,\n",
       " 'ooh': 3,\n",
       " 'shes': 15,\n",
       " 'sittin': 1,\n",
       " 'with': 1,\n",
       " 'you': 10,\n",
       " 'but': 2,\n",
       " 'eyes': 1,\n",
       " 'are': 1,\n",
       " 'on': 1,\n",
       " 'door': 1,\n",
       " '': 6,\n",
       " 'so': 1,\n",
       " 'many': 1,\n",
       " 'have': 1,\n",
       " 'paid': 1,\n",
       " 'to': 1,\n",
       " 'see': 1,\n",
       " 'what': 2,\n",
       " 'think': 1,\n",
       " 'youre': 2,\n",
       " 'gettin': 1,\n",
       " 'for': 2,\n",
       " 'free': 1,\n",
       " 'woman': 2,\n",
       " 'wild': 2,\n",
       " 'a': 15,\n",
       " 'shecat': 1,\n",
       " 'tamed': 1,\n",
       " 'by': 1,\n",
       " 'purr': 1,\n",
       " 'of': 1,\n",
       " 'jaguar': 1,\n",
       " 'moneys': 1,\n",
       " 'matter': 2,\n",
       " 'if': 2,\n",
       " 'in': 2,\n",
       " 'it': 1,\n",
       " 'love': 1,\n",
       " 'aint': 1,\n",
       " 'gonna': 1,\n",
       " 'get': 1,\n",
       " 'too': 1,\n",
       " 'far': 1,\n",
       " 'ohoh': 19,\n",
       " 'she': 26,\n",
       " 'comes': 24,\n",
       " 'watch': 13,\n",
       " 'boy': 7,\n",
       " 'chew': 6,\n",
       " 'up': 6,\n",
       " 'maneater': 12,\n",
       " 'i': 3,\n",
       " 'wouldnt': 1,\n",
       " 'were': 1,\n",
       " 'know': 1,\n",
       " 'can': 1,\n",
       " 'do': 1,\n",
       " 'deadly': 1,\n",
       " 'man': 1,\n",
       " 'could': 1,\n",
       " 'really': 1,\n",
       " 'rip': 1,\n",
       " 'your': 1,\n",
       " 'world': 1,\n",
       " 'apart': 1,\n",
       " 'mind': 1,\n",
       " 'over': 1,\n",
       " 'beauty': 1,\n",
       " 'there': 1,\n",
       " 'beast': 1,\n",
       " 'heart': 1,\n",
       " 'instrumental': 1,\n",
       " 'interlude': 1,\n",
       " 'ooooooooh': 1,\n",
       " 'whoaoh': 1,\n",
       " 'night': 1,\n",
       " 'oohoh': 2,\n",
       " 'whoooa': 1,\n",
       " 'oh': 2,\n",
       " 'yeah': 2}"
      ]
     },
     "execution_count": 12,
     "metadata": {},
     "output_type": "execute_result"
    }
   ],
   "source": [
    "# get actual word_counter here\n",
    "# just run this cell\n",
    "\n",
    "word_counter_test = sol.section1_partA(lyrics)\n",
    "word_counter_test"
   ]
  },
  {
   "cell_type": "code",
   "execution_count": 13,
   "metadata": {},
   "outputs": [
    {
     "name": "stdout",
     "output_type": "stream",
     "text": [
      "word_counter does not equal word_counter_test\n"
     ]
    }
   ],
   "source": [
    "# Test your code here\n",
    "# just run this cell\n",
    "\n",
    "try:\n",
    "    assert word_counter==word_counter_test\n",
    "    print('test passed')\n",
    "except Exception as e:\n",
    "    print(\"word_counter does not equal word_counter_test\")"
   ]
  },
  {
   "cell_type": "markdown",
   "metadata": {},
   "source": [
    "## S01 - Part B"
   ]
  },
  {
   "cell_type": "code",
   "execution_count": 14,
   "metadata": {},
   "outputs": [
    {
     "name": "stdout",
     "output_type": "stream",
     "text": [
      "she\n",
      "26\n"
     ]
    }
   ],
   "source": [
    "# Find the word with the highest counts\n",
    "# Your code here\n",
    "\n",
    "most_common_word = None\n",
    "highest_count = 0\n",
    "for k,v in word_counter.items():\n",
    "    if v > highest_count:\n",
    "        most_common_word = k\n",
    "        highest_count = v\n",
    "\n",
    "\n",
    "print(most_common_word)\n",
    "print(highest_count)"
   ]
  },
  {
   "cell_type": "code",
   "execution_count": 15,
   "metadata": {},
   "outputs": [],
   "source": [
    "# get actual most_common_word\n",
    "# just run this cell\n",
    "\n",
    "most_common_word_test = sol.section1_partB(lyrics)"
   ]
  },
  {
   "cell_type": "code",
   "execution_count": 16,
   "metadata": {},
   "outputs": [
    {
     "name": "stdout",
     "output_type": "stream",
     "text": [
      "test passed\n"
     ]
    }
   ],
   "source": [
    "# test your solution here\n",
    "# just run this cell\n",
    "\n",
    "try:\n",
    "    assert most_common_word==most_common_word_test\n",
    "    print('test passed')\n",
    "except Exception as e:\n",
    "    print(\"most_common_word does not equal most_common_word_test\")"
   ]
  },
  {
   "cell_type": "markdown",
   "metadata": {},
   "source": [
    "# Section 02: Mean and Standard Deviation\n",
    "using the dictionary `word_counter` from above, solve the following problems"
   ]
  },
  {
   "cell_type": "markdown",
   "metadata": {},
   "source": [
    "## S02 - Part A"
   ]
  },
  {
   "cell_type": "code",
   "execution_count": 17,
   "metadata": {},
   "outputs": [
    {
     "name": "stdout",
     "output_type": "stream",
     "text": [
      "3.257425742574257\n"
     ]
    }
   ],
   "source": [
    "# calculate the mean word counts\n",
    "# Your code here\n",
    "# you can write a function or just do it outright. \n",
    "\n",
    "mean_word_counts = None\n",
    "\n",
    "def mean_word_counter(a_dict):\n",
    "    summation = 0\n",
    "    for k,v in a_dict.items():\n",
    "        summation += v\n",
    "    return summation/len(a_dict)\n",
    "\n",
    "mean_word_counts = mean_word_counter(word_counter_test)\n",
    "print(mean_word_counts)"
   ]
  },
  {
   "cell_type": "code",
   "execution_count": 18,
   "metadata": {},
   "outputs": [],
   "source": [
    "# get actual mean word counts\n",
    "# just run this cell\n",
    "\n",
    "mean_word_counts_test = sol.section2_partA(lyrics)"
   ]
  },
  {
   "cell_type": "code",
   "execution_count": 19,
   "metadata": {},
   "outputs": [
    {
     "name": "stdout",
     "output_type": "stream",
     "text": [
      "test passed\n"
     ]
    }
   ],
   "source": [
    "# test your solution here\n",
    "# just run this cell\n",
    "\n",
    "try:\n",
    "    assert mean_word_counts==mean_word_counts_test\n",
    "    print('test passed')\n",
    "except Exception as e:\n",
    "    print(\"mean_word_counts does not equal mean_word_counts_test\")"
   ]
  },
  {
   "cell_type": "markdown",
   "metadata": {},
   "source": [
    "## S02 - Part B"
   ]
  },
  {
   "cell_type": "code",
   "execution_count": 20,
   "metadata": {},
   "outputs": [
    {
     "name": "stdout",
     "output_type": "stream",
     "text": [
      "5.202157711791059\n"
     ]
    }
   ],
   "source": [
    "# calculate the standard deviation of the word_counts\n",
    "# you can write a function or just calculate it out right.  It's up to you.\n",
    "# Your code here\n",
    "\n",
    "import math\n",
    "\n",
    "def std(dictionary):\n",
    "    values = [(v - mean_word_counts) ** 2 for v in dictionary.values()]\n",
    "    return math.sqrt(sum(values) / len(values))\n",
    "\n",
    "std_word_counts = std(word_counter_test)\n",
    "print(std_word_counts)"
   ]
  },
  {
   "cell_type": "code",
   "execution_count": 21,
   "metadata": {},
   "outputs": [
    {
     "name": "stdout",
     "output_type": "stream",
     "text": [
      "5.202157711791059\n"
     ]
    }
   ],
   "source": [
    "# get actual standard deviation of word counts\n",
    "# just run this cell\n",
    "\n",
    "std_word_counts_test = sol.section2_partB(lyrics)\n",
    "print(std_word_counts_test)"
   ]
  },
  {
   "cell_type": "code",
   "execution_count": 22,
   "metadata": {},
   "outputs": [
    {
     "name": "stdout",
     "output_type": "stream",
     "text": [
      "test passed\n"
     ]
    }
   ],
   "source": [
    "# test your solution here\n",
    "# just run this cell\n",
    "\n",
    "try:\n",
    "    assert std_word_counts==std_word_counts_test\n",
    "    print('test passed')\n",
    "except Exception as e:\n",
    "    print(\"std_word_counts does not equal std_word_counts_test\")"
   ]
  },
  {
   "cell_type": "markdown",
   "metadata": {},
   "source": [
    "# Section03 - Functions"
   ]
  },
  {
   "cell_type": "markdown",
   "metadata": {},
   "source": [
    "## S03 - Part A"
   ]
  },
  {
   "cell_type": "code",
   "execution_count": 23,
   "metadata": {},
   "outputs": [],
   "source": [
    "# Your code here\n",
    "# write the function below\n",
    "def transform_odds(lst):\n",
    "    calculation = [(num * 3) + 1 for num in lst if num % 2 != 0]\n",
    "    return sum(calculation)\n",
    "    \"\"\"\n",
    "    this function should count\n",
    "    the number of odds in a list\n",
    "    then do the following calculation for every odd\n",
    "    - multiply each odd by 3\n",
    "    - add 1 to each odd number\n",
    "    return the sum of all of these numbers\n",
    "    \"\"\""
   ]
  },
  {
   "cell_type": "code",
   "execution_count": 24,
   "metadata": {},
   "outputs": [],
   "source": [
    "# run cell to generate a list of 100 random numbers\n",
    "# just run this cell\n",
    "\n",
    "import random\n",
    "random_nums = [random.randint(0, 1000) for i in range(100)]"
   ]
  },
  {
   "cell_type": "code",
   "execution_count": 25,
   "metadata": {},
   "outputs": [],
   "source": [
    "# run this cell to transform the random_numbers and store them to transformed_odds\n",
    "# just run this cell\n",
    "\n",
    "transformed_odds = transform_odds(random_nums)"
   ]
  },
  {
   "cell_type": "code",
   "execution_count": 26,
   "metadata": {},
   "outputs": [],
   "source": [
    "# run this cell to get the actual value of transformed odds\n",
    "# just run this cell\n",
    "\n",
    "transformed_odds_test = sol.section3_partA(random_nums)"
   ]
  },
  {
   "cell_type": "code",
   "execution_count": 27,
   "metadata": {},
   "outputs": [
    {
     "name": "stdout",
     "output_type": "stream",
     "text": [
      "test passed\n"
     ]
    }
   ],
   "source": [
    "# test your solution here\n",
    "# just run this cell\n",
    "\n",
    "try:\n",
    "    assert transformed_odds==transformed_odds_test\n",
    "    print('test passed')\n",
    "except Exception as e:\n",
    "    print(\"transformed_odds does not equal transformed_odds_test\")"
   ]
  },
  {
   "cell_type": "markdown",
   "metadata": {},
   "source": [
    "## S03 - Part B"
   ]
  },
  {
   "cell_type": "code",
   "execution_count": 28,
   "metadata": {},
   "outputs": [
    {
     "name": "stdout",
     "output_type": "stream",
     "text": [
      "1015203050100\n"
     ]
    }
   ],
   "source": [
    "# Your code here\n",
    "# write a function that checks the numbers in a list numbers\n",
    "# and checks if any of the numbers are divisible in a list of divisors divisors\n",
    "# it should return the all numbers in order they're given in the list \n",
    "# as a string\n",
    "\n",
    "def find_if_divisible(numbers, divisors):\n",
    "    divisible = []\n",
    "    remove_dups = []\n",
    "    for num in numbers:\n",
    "        for div in divisors:\n",
    "            if num % div == 0:\n",
    "                divisible.append(num)\n",
    "                break\n",
    "    return ''.join(map(lambda x: str(x), divisible))\n",
    "\n",
    "    \n",
    "    \"\"\"\n",
    "    Example: \n",
    "    find_if_divisible([10, 19, 15, 20, 23, 30, 50, 100], [2, 8, 5])\n",
    "    should return \n",
    "    \"1015203050100\"\n",
    "    \n",
    "    since all of these numbers are divisible by at least one number in the divisors list\n",
    "    \"\"\"\n",
    "\n",
    "print(find_if_divisible([10, 19, 15, 20, 23, 30, 50, 100], [2, 8, 5]))"
   ]
  },
  {
   "cell_type": "code",
   "execution_count": 29,
   "metadata": {},
   "outputs": [],
   "source": [
    "# run this cell to get a random set of numbers and divisors\n",
    "# just run this cell\n",
    "\n",
    "numbers = [random.randint(0, 50) for i in range(200)]\n",
    "divisors = [random.randint(1, 20) for i in range(5)]"
   ]
  },
  {
   "cell_type": "code",
   "execution_count": 30,
   "metadata": {},
   "outputs": [],
   "source": [
    "# get your solution for the random numbers above\n",
    "# just run this cell\n",
    "\n",
    "number_string = find_if_divisible(numbers=numbers, divisors=divisors)"
   ]
  },
  {
   "cell_type": "code",
   "execution_count": 31,
   "metadata": {},
   "outputs": [],
   "source": [
    "# get the actual solution for the random numbers above\n",
    "# just run this cell\n",
    "\n",
    "number_string_test = sol.section3_partB(numbers, divisors)"
   ]
  },
  {
   "cell_type": "code",
   "execution_count": 32,
   "metadata": {},
   "outputs": [
    {
     "name": "stdout",
     "output_type": "stream",
     "text": [
      "passed test\n"
     ]
    }
   ],
   "source": [
    "# test your solution here\n",
    "# just run this cell\n",
    "\n",
    "try:\n",
    "    assert number_string==number_string_test\n",
    "    print('passed test')\n",
    "except Exception as e:\n",
    "    print(\"number_string does not equal number_string_test\")"
   ]
  },
  {
   "cell_type": "markdown",
   "metadata": {},
   "source": [
    "# Level Up (Optional) Problems"
   ]
  },
  {
   "cell_type": "markdown",
   "metadata": {},
   "source": [
    "## Level Up - Part A"
   ]
  },
  {
   "cell_type": "code",
   "execution_count": 54,
   "metadata": {
    "scrolled": true
   },
   "outputs": [],
   "source": [
    "# Your code here\n",
    "\n",
    "#had to check solution on this one - didn't understand what a prime number was\n",
    "def is_prime(n):\n",
    "    if n > 1:\n",
    "        for i in range(2, n//2):\n",
    "            if (n % i) == 0:\n",
    "                return False\n",
    "                break\n",
    "        else:\n",
    "            return True            \n",
    "    else:\n",
    "        return False\n",
    "    \"\"\"\n",
    "    write a function that determines if a number is prime\n",
    "    return True if n is prime else return False\n",
    "    \n",
    "    a number, n, is prime if the only divisors of the number are 1 and n \n",
    "    \"\"\""
   ]
  },
  {
   "cell_type": "code",
   "execution_count": 55,
   "metadata": {},
   "outputs": [
    {
     "name": "stdout",
     "output_type": "stream",
     "text": [
      "test passed\n",
      "test passed\n",
      "test passed\n",
      "test passed\n",
      "test passed\n",
      "test passed\n",
      "test passed\n",
      "test passed\n",
      "test passed\n",
      "test passed\n"
     ]
    }
   ],
   "source": [
    "# run all tests in this cell\n",
    "# just run this cell\n",
    "\n",
    "random_nums = [random.randint(5, 50) for i in range(10)]\n",
    "for n in random_nums:\n",
    "    actual_result = is_prime(n)\n",
    "    expected_result = sol.levelUp_partA(n)\n",
    "    try:\n",
    "        assert expected_result==actual_result\n",
    "        print('test passed')\n",
    "    except Exception as e:\n",
    "        print(\"expected_result does not equal actual_result\")\n",
    "        print(f\"{n}  is {'NOT'*(1-expected_result)} prime but you returned {actual_result}\")"
   ]
  },
  {
   "cell_type": "markdown",
   "metadata": {},
   "source": [
    "## Level Up - Part B"
   ]
  },
  {
   "cell_type": "code",
   "execution_count": 56,
   "metadata": {},
   "outputs": [
    {
     "name": "stdout",
     "output_type": "stream",
     "text": [
      "{3, 5}\n"
     ]
    }
   ],
   "source": [
    "# complete this function\n",
    "# Your code here\n",
    "\n",
    "def find_common_elements(lst1, lst2):\n",
    "    return set([i for i in lst2 if i in lst1])\n",
    "    \n",
    "    \"\"\"\n",
    "    write a function that returns a set\n",
    "    of all of the elements that are in both\n",
    "    lst 1 and lst2\n",
    "    \n",
    "    Example\n",
    "    input:\n",
    "       - lst1 = [2, 3, 5, 3, 5, 3]\n",
    "       - lst2 = [3, 5, 6]\n",
    "       \n",
    "    return:\n",
    "       - (3, 5)\n",
    "    \"\"\"\n",
    "\n",
    "print(find_common_elements([2, 3, 5, 3, 5, 3],[3, 5, 6]))"
   ]
  },
  {
   "cell_type": "code",
   "execution_count": 57,
   "metadata": {},
   "outputs": [
    {
     "name": "stdout",
     "output_type": "stream",
     "text": [
      "test passed\n",
      "test passed\n",
      "test passed\n",
      "test passed\n",
      "test passed\n",
      "test passed\n",
      "test passed\n",
      "test passed\n",
      "test passed\n",
      "test passed\n"
     ]
    }
   ],
   "source": [
    "# run the following tests\n",
    "# just run this cell\n",
    "\n",
    "for i in range(10):\n",
    "    lst1 = [random.randint(0, 100) for i in range(random.randint(15, 20))]\n",
    "    lst2 = [random.randint(0, 100) for i in range(random.randint(15, 20))]\n",
    "    actual_result = find_common_elements(lst1, lst2)\n",
    "    expected_result = sol.levelUp_partB(lst1, lst2)\n",
    "    try:\n",
    "        assert expected_result==actual_result\n",
    "        print('test passed')\n",
    "    except Exception as e:\n",
    "        print(\"expected_result does not equal actual_result\")"
   ]
  },
  {
   "cell_type": "markdown",
   "metadata": {},
   "source": [
    "## Level Up - Part C"
   ]
  },
  {
   "cell_type": "code",
   "execution_count": 58,
   "metadata": {},
   "outputs": [],
   "source": [
    "# write a lambda function called rng that returns the range of a list of numbers\n",
    "# Your code here\n",
    "\n",
    "rng = lambda x: max(x) - min(x)"
   ]
  },
  {
   "cell_type": "code",
   "execution_count": 59,
   "metadata": {},
   "outputs": [
    {
     "name": "stdout",
     "output_type": "stream",
     "text": [
      "rng is a lambda function! great work so far\n",
      "running 10 random tests now\n",
      "--------------------------------------------------\n",
      "test passed, ranges are equal\n",
      "test passed, ranges are equal\n",
      "test passed, ranges are equal\n",
      "test passed, ranges are equal\n",
      "test passed, ranges are equal\n",
      "test passed, ranges are equal\n",
      "test passed, ranges are equal\n",
      "test passed, ranges are equal\n",
      "test passed, ranges are equal\n",
      "test passed, ranges are equal\n"
     ]
    }
   ],
   "source": [
    "# run these tests\n",
    "# just run this cell\n",
    "\n",
    "# this cell goes through 2 tests. \n",
    "# 1. did you write a function called rng that is actually a lambda function\n",
    "# 2. is written correctly\n",
    "try:\n",
    "    assert '<lambda>'==rng.__name__\n",
    "    print(\"rng is a lambda function! great work so far\")\n",
    "    print(\"running 10 random tests now\")\n",
    "    print(\"-\"*50)\n",
    "    for i in range(10):\n",
    "        lst = [random.randint(-1000, 1000) for i in range(random.randint(10, 20))]\n",
    "        actual_range = rng(lst)\n",
    "        expected_range = sol.levelUp_partC(lst)\n",
    "        try:\n",
    "            assert actual_range==expected_range\n",
    "            print('test passed, ranges are equal')\n",
    "        except:\n",
    "            print(\"expected_result does not equal actual_result\")\n",
    "    \n",
    "except:\n",
    "    print(\"rng is not a lambda function, must be a lambda function to continue\")"
   ]
  },
  {
   "cell_type": "code",
   "execution_count": 60,
   "metadata": {},
   "outputs": [
    {
     "name": "stdout",
     "output_type": "stream",
     "text": [
      "[NbConvertApp] Converting notebook assessment.ipynb to markdown\n",
      "[NbConvertApp] Writing 16585 bytes to assessment.md\n"
     ]
    }
   ],
   "source": [
    "# Convert this notebook to README by running this cell!\n",
    "!jupyter nbconvert --to markdown assessment.ipynb && mv assessment.md README.md"
   ]
  }
 ],
 "metadata": {
  "kernelspec": {
   "display_name": "Python 3",
   "language": "python",
   "name": "python3"
  },
  "language_info": {
   "codemirror_mode": {
    "name": "ipython",
    "version": 3
   },
   "file_extension": ".py",
   "mimetype": "text/x-python",
   "name": "python",
   "nbconvert_exporter": "python",
   "pygments_lexer": "ipython3",
   "version": "3.6.9"
  }
 },
 "nbformat": 4,
 "nbformat_minor": 2
}
